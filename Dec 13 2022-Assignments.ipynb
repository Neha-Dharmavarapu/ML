{
 "cells": [
  {
   "cell_type": "markdown",
   "id": "2b56c632",
   "metadata": {},
   "source": [
    "# WAP to accept two numbers from the user and display their sum"
   ]
  },
  {
   "cell_type": "code",
   "execution_count": 1,
   "id": "50c7f6aa",
   "metadata": {},
   "outputs": [
    {
     "name": "stdout",
     "output_type": "stream",
     "text": [
      "Enter the first number: 4\n",
      "Enter the second number: 6\n",
      "10\n"
     ]
    }
   ],
   "source": [
    "a=int(input(\"Enter the first number: \"))\n",
    "b=int(input(\"Enter the second number: \"))\n",
    "c=a+b\n",
    "print(c)"
   ]
  },
  {
   "cell_type": "markdown",
   "id": "2f07baa0",
   "metadata": {},
   "source": [
    "# WAP to accept radius of a Circle from the user and calculate area and circumference\n"
   ]
  },
  {
   "cell_type": "code",
   "execution_count": 14,
   "id": "3b77b5ab",
   "metadata": {},
   "outputs": [
    {
     "name": "stdout",
     "output_type": "stream",
     "text": [
      "Enter the radius: 1\n",
      "3.141592653589793\n",
      "6.283185307179586\n"
     ]
    }
   ],
   "source": [
    "import math\n",
    "r=int(input(\"Enter the radius: \"))\n",
    "Area=(math.pi)*r**2\n",
    "circumference=2*(math.pi)*r\n",
    "print(Area)\n",
    "print(circumference)\n"
   ]
  },
  {
   "cell_type": "markdown",
   "id": "44af6dfc",
   "metadata": {},
   "source": [
    "# WAP to accept roll number , grade and percentage as input from the user and display it back"
   ]
  },
  {
   "cell_type": "code",
   "execution_count": 8,
   "id": "7060c501",
   "metadata": {},
   "outputs": [
    {
     "name": "stdout",
     "output_type": "stream",
     "text": [
      "Enter the Roll Number : 52\n",
      "Enter the grade: 9\n",
      "Enter the percentage :86\n",
      "Roll number : 52\n",
      "Grade : 9\n",
      "Percentage : 86 %\n"
     ]
    }
   ],
   "source": [
    "a=int(input(\"Enter the Roll Number : \"))\n",
    "b=int(input(\"Enter the grade: \"))\n",
    "c=int(input(\"Enter the percentage :\"))\n",
    "print(\"Roll number :\",a)\n",
    "print(\"Grade :\",b)\n",
    "print(\"Percentage : {}%\".format(c))"
   ]
  },
  {
   "cell_type": "markdown",
   "id": "c21cd194",
   "metadata": {},
   "source": [
    "# Write a program that asks the user to enter his/her name and age. Print out a message , displaying the user’s name along with the year in which they will turn 100 years old."
   ]
  },
  {
   "cell_type": "code",
   "execution_count": 21,
   "id": "c73bda0a",
   "metadata": {},
   "outputs": [
    {
     "name": "stdout",
     "output_type": "stream",
     "text": [
      "Enter your name : neha\n",
      "Enter your age: 30\n",
      "neha your age will be 100 in the year 2093\n"
     ]
    }
   ],
   "source": [
    "import datetime\n",
    "a=input(\"Enter your name : \")\n",
    "b=int(input(\"Enter your age: \"))\n",
    "c=100-b\n",
    "today = datetime.date.today()\n",
    "d=today.year+c\n",
    "print(\"{} your age will be 100 in the year {}\".format(a,d))"
   ]
  },
  {
   "cell_type": "markdown",
   "id": "adbfb5ff",
   "metadata": {},
   "source": [
    "# Write a program that asks the user to input 2 integers and adds them . Accept both the numbers in a single line only"
   ]
  },
  {
   "cell_type": "code",
   "execution_count": 28,
   "id": "bf84bb45",
   "metadata": {},
   "outputs": [
    {
     "name": "stdout",
     "output_type": "stream",
     "text": [
      "enter the numbers: 5 45\n",
      "50\n"
     ]
    }
   ],
   "source": [
    "a,b=input(\"enter the numbers: \").split()\n",
    "c=int(a)+int(b)\n",
    "print(c)\n"
   ]
  },
  {
   "cell_type": "markdown",
   "id": "183acde1",
   "metadata": {},
   "source": [
    "# Write a Python program which accepts the user's first and last name and print them in reverse order with a space between them."
   ]
  },
  {
   "cell_type": "code",
   "execution_count": 34,
   "id": "1ae69567",
   "metadata": {},
   "outputs": [
    {
     "name": "stdout",
     "output_type": "stream",
     "text": [
      "enter your first name : Neha\n",
      "enter your last name: Tati\n",
      "itaT aheN\n"
     ]
    }
   ],
   "source": [
    "First=input(\"enter your first name : \")\n",
    "Last=input(\"enter your last name: \")\n",
    "Name=First+\" \"+Last\n",
    "Rev=Name[::-1]\n",
    "print(Rev)\n",
    "\n",
    "\n"
   ]
  },
  {
   "cell_type": "code",
   "execution_count": null,
   "id": "0a5c9963",
   "metadata": {},
   "outputs": [],
   "source": []
  },
  {
   "cell_type": "code",
   "execution_count": null,
   "id": "6b2bdda9",
   "metadata": {},
   "outputs": [],
   "source": []
  }
 ],
 "metadata": {
  "kernelspec": {
   "display_name": "Python 3 (ipykernel)",
   "language": "python",
   "name": "python3"
  },
  "language_info": {
   "codemirror_mode": {
    "name": "ipython",
    "version": 3
   },
   "file_extension": ".py",
   "mimetype": "text/x-python",
   "name": "python",
   "nbconvert_exporter": "python",
   "pygments_lexer": "ipython3",
   "version": "3.10.9"
  }
 },
 "nbformat": 4,
 "nbformat_minor": 5
}
