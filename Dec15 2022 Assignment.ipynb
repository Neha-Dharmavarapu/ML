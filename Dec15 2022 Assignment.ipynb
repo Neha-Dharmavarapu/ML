{
 "cells": [
  {
   "cell_type": "markdown",
   "id": "c00c59c8",
   "metadata": {},
   "source": [
    "# WAP to accept an integer from the user and check whether it is an even or odd "
   ]
  },
  {
   "cell_type": "code",
   "execution_count": 1,
   "id": "c1223532",
   "metadata": {},
   "outputs": [
    {
     "name": "stdout",
     "output_type": "stream",
     "text": [
      "Enter the value : 5\n",
      "5 is odd number\n"
     ]
    }
   ],
   "source": [
    "a=int(input(\"Enter the value : \"))\n",
    "if a%2==0:\n",
    "    print(\"{} is even number\".format(a))\n",
    "else:\n",
    "    print(\"{} is odd number\".format(a))"
   ]
  },
  {
   "cell_type": "markdown",
   "id": "bca8cc4a",
   "metadata": {},
   "source": [
    "# WAP to accept a character from the user and check whether it is a capital letter or small letter. Assume user will input only alphabets\n",
    "\n"
   ]
  },
  {
   "cell_type": "code",
   "execution_count": 6,
   "id": "f0052328",
   "metadata": {},
   "outputs": [
    {
     "name": "stdout",
     "output_type": "stream",
     "text": [
      "enter the alphabet : F\n",
      "F is Capital letter\n"
     ]
    }
   ],
   "source": [
    "alp=input(\"enter the alphabet : \")\n",
    "if \"A\"<=alp<=\"Z\":\n",
    "    print(\"%s is Capital letter\"%(alp))\n",
    "else:\n",
    "    print(\"%s is Small letter\"%(alp))"
   ]
  },
  {
   "cell_type": "markdown",
   "id": "7552df64",
   "metadata": {},
   "source": [
    "# WAP to accept a character from the user and check whether it is a capital letter or small letter or a digit or some special symbol\n",
    "\n"
   ]
  },
  {
   "cell_type": "code",
   "execution_count": 9,
   "id": "6715c6db",
   "metadata": {},
   "outputs": [
    {
     "name": "stdout",
     "output_type": "stream",
     "text": [
      "enter the character : &\n",
      "& is special symbol\n"
     ]
    }
   ],
   "source": [
    "a=input(\"enter the character : \")\n",
    "if a.isalnum()==True:\n",
    "    if a.isalpha()==True:\n",
    "        if \"A\"<=a<=\"Z\":\n",
    "            print(\"%s is Capital letter\"%(a))\n",
    "        else:\n",
    "            print(\"%s is Small letter\"%(a))\n",
    "    else:\n",
    "        print(\"%s is digit\"%(a))\n",
    "else:\n",
    "    print(\"%s is special symbol\"%(a))"
   ]
  },
  {
   "cell_type": "markdown",
   "id": "295b46cf",
   "metadata": {},
   "source": [
    "# WAP to accept 3 integers from the user and without using any logical operator and cascading of relational operators , find out the greatest number amongst them"
   ]
  },
  {
   "cell_type": "code",
   "execution_count": 11,
   "id": "2ee70b80",
   "metadata": {},
   "outputs": [
    {
     "name": "stdout",
     "output_type": "stream",
     "text": [
      "enter number1 : 5\n",
      "enter number2 : 6\n",
      "enter number3: 8\n",
      "8 is biggest\n"
     ]
    }
   ],
   "source": [
    "a=int(input(\"enter number1 : \"))\n",
    "b=int(input(\"enter number2 : \"))\n",
    "c=int(input(\"enter number3: \"))\n",
    "if a>b and a>c:\n",
    "    print(\"{} is greatest number\".format(a))\n",
    "elif b>a and b>c:\n",
    "    print(\"{} is greatest number\".format(b))\n",
    "else:\n",
    "    print(\"{} is greatest number\".format(c))"
   ]
  },
  {
   "cell_type": "markdown",
   "id": "c58413a2",
   "metadata": {},
   "source": [
    "# WAP to accept a year from the user and check whether it is a leap year or not.\n",
    "An year is a leap year if:\n",
    "It is exactly divisible by 4 and at the same time not\n",
    "divisible by 100\n",
    "OR\n",
    "It is divisible by 400\n",
    "For example:\n",
    "2017 is not a leap year\n",
    "2012 is a leap year\n",
    "1900 is a not leap year\n",
    "2000 is a leap year\n",
    "\n"
   ]
  },
  {
   "cell_type": "code",
   "execution_count": 15,
   "id": "74ead72f",
   "metadata": {},
   "outputs": [
    {
     "name": "stdout",
     "output_type": "stream",
     "text": [
      "enter year : 1900\n",
      "1900 is a not leap year\n"
     ]
    }
   ],
   "source": [
    "a=int(input(\"enter year : \"))\n",
    "if (a%4==0 and a%100!=0) or a%400==0:\n",
    "    print(\"{} is a leap year\".format(a))\n",
    "else:\n",
    "    print(\"{} is a not leap year\".format(a))"
   ]
  },
  {
   "cell_type": "markdown",
   "id": "81b91804",
   "metadata": {},
   "source": [
    "# ●\tYou have to develop a number guessing game. Following are the steps needed:\n",
    "●\tAt first , the program will generate a random integer secretly.\n",
    "\n",
    "●\tNow it will ask the user to guess that number .\n",
    "\n",
    "●\tIf the user guessed it correctly then the program prints “Congratulations! You guessed it right” .\n",
    "\n",
    "●\tBut if the number guessed by the user is larger than the secret number then program should print “Number too large” and , if the number guessed by the user is smaller than the secret number then the program should print “Number too small” \n",
    "\n",
    "●\tThis should continue until the user guesses the number correctly or quits .\n",
    "\n",
    "●\tIf the user wants to quit in between he will have to type 0 or negative number\n"
   ]
  },
  {
   "cell_type": "code",
   "execution_count": 28,
   "id": "d5a2dead",
   "metadata": {},
   "outputs": [
    {
     "name": "stdout",
     "output_type": "stream",
     "text": [
      "enter number : 5\n",
      "Number too large\n",
      "enter number : 6\n",
      "Number too large\n",
      "enter number : 1\n",
      "Congratulations! You guessed it right\n"
     ]
    }
   ],
   "source": [
    "import random\n",
    "a=random.choice(range(0,5))\n",
    "while a:\n",
    "    b=int(input(\"enter number : \"))\n",
    "    if a==b:\n",
    "        print(\"Congratulations! You guessed it right\")\n",
    "        break\n",
    "    elif b>a:\n",
    "        print(\"Number too large\")\n",
    "    elif b==0 or b<0:\n",
    "        print(\"quit\")\n",
    "        break\n",
    "    elif b<a:\n",
    "        print(\"Number too small\")"
   ]
  },
  {
   "cell_type": "markdown",
   "id": "6cb12a5c",
   "metadata": {},
   "source": [
    "# Write a program to accept a string from the user and display it vertically but don’t display the vowels in it."
   ]
  },
  {
   "cell_type": "code",
   "execution_count": 15,
   "id": "a5abfc44",
   "metadata": {
    "scrolled": false
   },
   "outputs": [
    {
     "name": "stdout",
     "output_type": "stream",
     "text": [
      "enter name:NEHA tati\n",
      "N\n",
      "H\n",
      " \n",
      "t\n",
      "t\n"
     ]
    }
   ],
   "source": [
    "a=input(\"enter name:\")\n",
    "i=0\n",
    "while i<len(a):\n",
    "    if a[i] not in \"aeiouAEIOU\":\n",
    "        print(a[i])\n",
    "    i=i+1\n",
    "\n",
    "        \n",
    "    "
   ]
  },
  {
   "cell_type": "markdown",
   "id": "b28e9028",
   "metadata": {},
   "source": [
    "# ●\tWrite a program to continuously accept integers from the user until the user types 0 and as soon as 0 is entered display sum of all the nos entered before 0"
   ]
  },
  {
   "cell_type": "code",
   "execution_count": 13,
   "id": "9a1f78b4",
   "metadata": {},
   "outputs": [
    {
     "name": "stdout",
     "output_type": "stream",
     "text": [
      "Enter the number: 1\n",
      "Enter the number: 2\n",
      "Enter the number: 3\n",
      "Enter the number: -5\n",
      "Enter the number: 4\n",
      "Enter the number: 0\n",
      "10\n"
     ]
    }
   ],
   "source": [
    "a=0\n",
    "while True:\n",
    "    b=int(input(\"Enter the number: \"))\n",
    "    if b<0:\n",
    "        continue\n",
    "    elif b==0:\n",
    "        break\n",
    "    else:\n",
    "        a=a+b\n",
    "print(a)"
   ]
  },
  {
   "cell_type": "markdown",
   "id": "48f4b687",
   "metadata": {},
   "source": [
    "# ●\tWrite a program using a for loop to accept a string from the user and display it vertically but don’t display the vowels in it."
   ]
  },
  {
   "cell_type": "code",
   "execution_count": 16,
   "id": "c600db9e",
   "metadata": {},
   "outputs": [
    {
     "name": "stdout",
     "output_type": "stream",
     "text": [
      "enter name:neha TATI\n",
      "n\n",
      "h\n",
      " \n",
      "T\n",
      "T\n"
     ]
    }
   ],
   "source": [
    "a=input(\"enter name:\")\n",
    "for i in a:\n",
    "    if i in \"aeiouAEIOU\":\n",
    "        continue\n",
    "    else:\n",
    "        print(i)"
   ]
  },
  {
   "cell_type": "markdown",
   "id": "c6834f5f",
   "metadata": {},
   "source": [
    "# Write a program to accept an integer from the user and display the sum of all the numbers from 1 to that number.\n"
   ]
  },
  {
   "cell_type": "code",
   "execution_count": 21,
   "id": "e9ae56c7",
   "metadata": {},
   "outputs": [
    {
     "name": "stdout",
     "output_type": "stream",
     "text": [
      "Enter the number: 6\n",
      "sum of the numbers from 1 to 6 is 21\n"
     ]
    }
   ],
   "source": [
    "b=int(input(\"Enter the number: \"))\n",
    "a=0\n",
    "for i in range(1,b+1):\n",
    "    a=a+i\n",
    "    i=i+1\n",
    "print(\"sum of the numbers from 1 to {} is {}\".format(b,a))\n"
   ]
  },
  {
   "cell_type": "markdown",
   "id": "0885ad1b",
   "metadata": {},
   "source": [
    "# ●\tWrite a program to accept an integer from the user and calculate its factorial"
   ]
  },
  {
   "cell_type": "code",
   "execution_count": 24,
   "id": "04d52883",
   "metadata": {},
   "outputs": [
    {
     "name": "stdout",
     "output_type": "stream",
     "text": [
      "Enter the number: 6\n",
      "Factorial of 6! is 720\n"
     ]
    }
   ],
   "source": [
    "b=int(input(\"Enter the number: \"))\n",
    "a=1\n",
    "for i in range(1,b+1):\n",
    "    a=a*i\n",
    "    i=i+1\n",
    "print(\"Factorial of {}! is {}\".format(b,a))\n"
   ]
  },
  {
   "cell_type": "markdown",
   "id": "e106f7ab",
   "metadata": {},
   "source": [
    "# ●\tWrite a program to print the following pattern \n",
    " \n"
   ]
  },
  {
   "cell_type": "code",
   "execution_count": 27,
   "id": "4baa819f",
   "metadata": {},
   "outputs": [
    {
     "name": "stdout",
     "output_type": "stream",
     "text": [
      "***\n",
      "***\n",
      "***\n",
      "***\n"
     ]
    }
   ],
   "source": [
    "for i in range(1,5):\n",
    "    print(\"*\"*3)"
   ]
  },
  {
   "cell_type": "code",
   "execution_count": 31,
   "id": "080b796a",
   "metadata": {},
   "outputs": [
    {
     "name": "stdout",
     "output_type": "stream",
     "text": [
      "*\n",
      "**\n",
      "***\n",
      "****\n"
     ]
    }
   ],
   "source": [
    "for i in range(1,5):\n",
    "    print(\"*\"*i)"
   ]
  },
  {
   "cell_type": "code",
   "execution_count": 32,
   "id": "bf427259",
   "metadata": {},
   "outputs": [
    {
     "name": "stdout",
     "output_type": "stream",
     "text": [
      "****\n",
      "***\n",
      "**\n",
      "*\n"
     ]
    }
   ],
   "source": [
    "for i in range(4,0,-1):\n",
    "    print(\"*\"*i)"
   ]
  },
  {
   "cell_type": "markdown",
   "id": "0b75e178",
   "metadata": {},
   "source": [
    "# ●\tWrite a program to accept an integer from the user and display all the numbers from 1 to that number. Repeat the process until the user enters 0."
   ]
  },
  {
   "cell_type": "code",
   "execution_count": 38,
   "id": "f2a6066d",
   "metadata": {},
   "outputs": [
    {
     "name": "stdout",
     "output_type": "stream",
     "text": [
      "enter the number: 4\n",
      "1\n",
      "2\n",
      "3\n",
      "4\n",
      "enter the number: 5\n",
      "1\n",
      "2\n",
      "3\n",
      "4\n",
      "5\n",
      "enter the number: 0\n",
      "Quit\n"
     ]
    }
   ],
   "source": [
    "while True:\n",
    "    b=int(input(\"enter the number: \"))\n",
    "    if b==0:\n",
    "        print(\"Quit\")\n",
    "        break\n",
    "    else:\n",
    "        for i in range (1,b+1):\n",
    "            print(i)\n",
    "        \n",
    "    "
   ]
  },
  {
   "cell_type": "code",
   "execution_count": null,
   "id": "9cad4452",
   "metadata": {},
   "outputs": [],
   "source": []
  },
  {
   "cell_type": "code",
   "execution_count": null,
   "id": "6e2ed7e1",
   "metadata": {},
   "outputs": [],
   "source": []
  },
  {
   "cell_type": "code",
   "execution_count": null,
   "id": "eafdfd45",
   "metadata": {},
   "outputs": [],
   "source": []
  }
 ],
 "metadata": {
  "kernelspec": {
   "display_name": "Python 3 (ipykernel)",
   "language": "python",
   "name": "python3"
  },
  "language_info": {
   "codemirror_mode": {
    "name": "ipython",
    "version": 3
   },
   "file_extension": ".py",
   "mimetype": "text/x-python",
   "name": "python",
   "nbconvert_exporter": "python",
   "pygments_lexer": "ipython3",
   "version": "3.10.9"
  }
 },
 "nbformat": 4,
 "nbformat_minor": 5
}
